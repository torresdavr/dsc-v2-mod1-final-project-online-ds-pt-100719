{
 "cells": [
  {
   "cell_type": "markdown",
   "metadata": {},
   "source": [
    "## Final Project Submission\n",
    "\n",
    "Please fill out:\n",
    "* Student name: \n",
    "* Student pace: self paced / part time / full time\n",
    "* Scheduled project review date/time: \n",
    "* Instructor name: \n",
    "* Blog post URL:\n"
   ]
  },
  {
   "cell_type": "code",
   "execution_count": 1,
   "metadata": {},
   "outputs": [],
   "source": [
    "# Your code here - remember to use markdown cells for comments as well!\n",
    "import pandas as pd\n",
    "import numpy as np\n",
    "import matplotlib.pyplot as plt\n",
    "%matplotlib inline\n",
    "\n",
    "import seaborn as sns"
   ]
  },
  {
   "cell_type": "markdown",
   "metadata": {},
   "source": [
    "King County House Sales dataset.<br>\n",
    "\n",
    "**id** - unique identified for a house\n",
    "* **dateDate** - house was sold\n",
    "* **pricePrice** -  is prediction target\n",
    "* **bedroomsNumber** -  of Bedrooms/House\n",
    "* **bathroomsNumber** -  of bathrooms/bedrooms\n",
    "* **sqft_livingsquare** -  footage of the home\n",
    "* **sqft_lotsquare** -  footage of the lot\n",
    "* **floorsTotal** -  floors (levels) in house\n",
    "* **waterfront** - House which has a view to a waterfront\n",
    "* **view** - Has been viewed\n",
    "* **condition** - How good the condition is ( Overall )\n",
    "* **grade** - overall grade given to the housing unit, based on King County grading system\n",
    "* **sqft_above** - square footage of house apart from basement\n",
    "* **sqft_basement** - square footage of the basement\n",
    "* **yr_built** - Built Year\n",
    "* **yr_renovated** - Year when house was renovated\n",
    "* **zipcode** - zip\n",
    "* **lat** - Latitude coordinate\n",
    "* **long** - Longitude coordinate\n",
    "* **sqft_living15** - The square footage of interior housing living space for the nearest 15 neighbors\n",
    "* **sqft_lot15** - The square footage of the land lots of the nearest 15 neighbors\n"
   ]
  },
  {
   "cell_type": "code",
   "execution_count": 2,
   "metadata": {},
   "outputs": [],
   "source": [
    "#pd.set_option('display.max_colwidth', -1)\n",
    "pd.set_option('display.max_columns', None)\n",
    "df = pd.read_csv('kc_house_data.csv')"
   ]
  },
  {
   "cell_type": "code",
   "execution_count": 3,
   "metadata": {},
   "outputs": [
    {
     "data": {
      "text/html": [
       "<div>\n",
       "<style scoped>\n",
       "    .dataframe tbody tr th:only-of-type {\n",
       "        vertical-align: middle;\n",
       "    }\n",
       "\n",
       "    .dataframe tbody tr th {\n",
       "        vertical-align: top;\n",
       "    }\n",
       "\n",
       "    .dataframe thead th {\n",
       "        text-align: right;\n",
       "    }\n",
       "</style>\n",
       "<table border=\"1\" class=\"dataframe\">\n",
       "  <thead>\n",
       "    <tr style=\"text-align: right;\">\n",
       "      <th></th>\n",
       "      <th>id</th>\n",
       "      <th>date</th>\n",
       "      <th>price</th>\n",
       "      <th>bedrooms</th>\n",
       "      <th>bathrooms</th>\n",
       "      <th>sqft_living</th>\n",
       "      <th>sqft_lot</th>\n",
       "      <th>floors</th>\n",
       "      <th>waterfront</th>\n",
       "      <th>view</th>\n",
       "      <th>condition</th>\n",
       "      <th>grade</th>\n",
       "      <th>sqft_above</th>\n",
       "      <th>sqft_basement</th>\n",
       "      <th>yr_built</th>\n",
       "      <th>yr_renovated</th>\n",
       "      <th>zipcode</th>\n",
       "      <th>lat</th>\n",
       "      <th>long</th>\n",
       "      <th>sqft_living15</th>\n",
       "      <th>sqft_lot15</th>\n",
       "    </tr>\n",
       "  </thead>\n",
       "  <tbody>\n",
       "    <tr>\n",
       "      <td>0</td>\n",
       "      <td>7129300520</td>\n",
       "      <td>10/13/2014</td>\n",
       "      <td>221900.0</td>\n",
       "      <td>3</td>\n",
       "      <td>1.00</td>\n",
       "      <td>1180</td>\n",
       "      <td>5650</td>\n",
       "      <td>1.0</td>\n",
       "      <td>NaN</td>\n",
       "      <td>0.0</td>\n",
       "      <td>3</td>\n",
       "      <td>7</td>\n",
       "      <td>1180</td>\n",
       "      <td>0.0</td>\n",
       "      <td>1955</td>\n",
       "      <td>0.0</td>\n",
       "      <td>98178</td>\n",
       "      <td>47.5112</td>\n",
       "      <td>-122.257</td>\n",
       "      <td>1340</td>\n",
       "      <td>5650</td>\n",
       "    </tr>\n",
       "    <tr>\n",
       "      <td>1</td>\n",
       "      <td>6414100192</td>\n",
       "      <td>12/9/2014</td>\n",
       "      <td>538000.0</td>\n",
       "      <td>3</td>\n",
       "      <td>2.25</td>\n",
       "      <td>2570</td>\n",
       "      <td>7242</td>\n",
       "      <td>2.0</td>\n",
       "      <td>0.0</td>\n",
       "      <td>0.0</td>\n",
       "      <td>3</td>\n",
       "      <td>7</td>\n",
       "      <td>2170</td>\n",
       "      <td>400.0</td>\n",
       "      <td>1951</td>\n",
       "      <td>1991.0</td>\n",
       "      <td>98125</td>\n",
       "      <td>47.7210</td>\n",
       "      <td>-122.319</td>\n",
       "      <td>1690</td>\n",
       "      <td>7639</td>\n",
       "    </tr>\n",
       "    <tr>\n",
       "      <td>2</td>\n",
       "      <td>5631500400</td>\n",
       "      <td>2/25/2015</td>\n",
       "      <td>180000.0</td>\n",
       "      <td>2</td>\n",
       "      <td>1.00</td>\n",
       "      <td>770</td>\n",
       "      <td>10000</td>\n",
       "      <td>1.0</td>\n",
       "      <td>0.0</td>\n",
       "      <td>0.0</td>\n",
       "      <td>3</td>\n",
       "      <td>6</td>\n",
       "      <td>770</td>\n",
       "      <td>0.0</td>\n",
       "      <td>1933</td>\n",
       "      <td>NaN</td>\n",
       "      <td>98028</td>\n",
       "      <td>47.7379</td>\n",
       "      <td>-122.233</td>\n",
       "      <td>2720</td>\n",
       "      <td>8062</td>\n",
       "    </tr>\n",
       "    <tr>\n",
       "      <td>3</td>\n",
       "      <td>2487200875</td>\n",
       "      <td>12/9/2014</td>\n",
       "      <td>604000.0</td>\n",
       "      <td>4</td>\n",
       "      <td>3.00</td>\n",
       "      <td>1960</td>\n",
       "      <td>5000</td>\n",
       "      <td>1.0</td>\n",
       "      <td>0.0</td>\n",
       "      <td>0.0</td>\n",
       "      <td>5</td>\n",
       "      <td>7</td>\n",
       "      <td>1050</td>\n",
       "      <td>910.0</td>\n",
       "      <td>1965</td>\n",
       "      <td>0.0</td>\n",
       "      <td>98136</td>\n",
       "      <td>47.5208</td>\n",
       "      <td>-122.393</td>\n",
       "      <td>1360</td>\n",
       "      <td>5000</td>\n",
       "    </tr>\n",
       "    <tr>\n",
       "      <td>4</td>\n",
       "      <td>1954400510</td>\n",
       "      <td>2/18/2015</td>\n",
       "      <td>510000.0</td>\n",
       "      <td>3</td>\n",
       "      <td>2.00</td>\n",
       "      <td>1680</td>\n",
       "      <td>8080</td>\n",
       "      <td>1.0</td>\n",
       "      <td>0.0</td>\n",
       "      <td>0.0</td>\n",
       "      <td>3</td>\n",
       "      <td>8</td>\n",
       "      <td>1680</td>\n",
       "      <td>0.0</td>\n",
       "      <td>1987</td>\n",
       "      <td>0.0</td>\n",
       "      <td>98074</td>\n",
       "      <td>47.6168</td>\n",
       "      <td>-122.045</td>\n",
       "      <td>1800</td>\n",
       "      <td>7503</td>\n",
       "    </tr>\n",
       "  </tbody>\n",
       "</table>\n",
       "</div>"
      ],
      "text/plain": [
       "           id        date     price  bedrooms  bathrooms  sqft_living  \\\n",
       "0  7129300520  10/13/2014  221900.0         3       1.00         1180   \n",
       "1  6414100192   12/9/2014  538000.0         3       2.25         2570   \n",
       "2  5631500400   2/25/2015  180000.0         2       1.00          770   \n",
       "3  2487200875   12/9/2014  604000.0         4       3.00         1960   \n",
       "4  1954400510   2/18/2015  510000.0         3       2.00         1680   \n",
       "\n",
       "   sqft_lot  floors  waterfront  view  condition  grade  sqft_above  \\\n",
       "0      5650     1.0         NaN   0.0          3      7        1180   \n",
       "1      7242     2.0         0.0   0.0          3      7        2170   \n",
       "2     10000     1.0         0.0   0.0          3      6         770   \n",
       "3      5000     1.0         0.0   0.0          5      7        1050   \n",
       "4      8080     1.0         0.0   0.0          3      8        1680   \n",
       "\n",
       "  sqft_basement  yr_built  yr_renovated  zipcode      lat     long  \\\n",
       "0           0.0      1955           0.0    98178  47.5112 -122.257   \n",
       "1         400.0      1951        1991.0    98125  47.7210 -122.319   \n",
       "2           0.0      1933           NaN    98028  47.7379 -122.233   \n",
       "3         910.0      1965           0.0    98136  47.5208 -122.393   \n",
       "4           0.0      1987           0.0    98074  47.6168 -122.045   \n",
       "\n",
       "   sqft_living15  sqft_lot15  \n",
       "0           1340        5650  \n",
       "1           1690        7639  \n",
       "2           2720        8062  \n",
       "3           1360        5000  \n",
       "4           1800        7503  "
      ]
     },
     "execution_count": 3,
     "metadata": {},
     "output_type": "execute_result"
    }
   ],
   "source": [
    "df.head()"
   ]
  },
  {
   "cell_type": "code",
   "execution_count": 4,
   "metadata": {},
   "outputs": [
    {
     "data": {
      "text/plain": [
       "(21597, 21)"
      ]
     },
     "execution_count": 4,
     "metadata": {},
     "output_type": "execute_result"
    }
   ],
   "source": [
    "df.shape"
   ]
  },
  {
   "cell_type": "code",
   "execution_count": 5,
   "metadata": {},
   "outputs": [
    {
     "name": "stdout",
     "output_type": "stream",
     "text": [
      "<class 'pandas.core.frame.DataFrame'>\n",
      "RangeIndex: 21597 entries, 0 to 21596\n",
      "Data columns (total 21 columns):\n",
      "id               21597 non-null int64\n",
      "date             21597 non-null object\n",
      "price            21597 non-null float64\n",
      "bedrooms         21597 non-null int64\n",
      "bathrooms        21597 non-null float64\n",
      "sqft_living      21597 non-null int64\n",
      "sqft_lot         21597 non-null int64\n",
      "floors           21597 non-null float64\n",
      "waterfront       19221 non-null float64\n",
      "view             21534 non-null float64\n",
      "condition        21597 non-null int64\n",
      "grade            21597 non-null int64\n",
      "sqft_above       21597 non-null int64\n",
      "sqft_basement    21597 non-null object\n",
      "yr_built         21597 non-null int64\n",
      "yr_renovated     17755 non-null float64\n",
      "zipcode          21597 non-null int64\n",
      "lat              21597 non-null float64\n",
      "long             21597 non-null float64\n",
      "sqft_living15    21597 non-null int64\n",
      "sqft_lot15       21597 non-null int64\n",
      "dtypes: float64(8), int64(11), object(2)\n",
      "memory usage: 3.5+ MB\n"
     ]
    }
   ],
   "source": [
    "df.info()"
   ]
  },
  {
   "cell_type": "code",
   "execution_count": 6,
   "metadata": {},
   "outputs": [
    {
     "data": {
      "text/html": [
       "<div>\n",
       "<style scoped>\n",
       "    .dataframe tbody tr th:only-of-type {\n",
       "        vertical-align: middle;\n",
       "    }\n",
       "\n",
       "    .dataframe tbody tr th {\n",
       "        vertical-align: top;\n",
       "    }\n",
       "\n",
       "    .dataframe thead th {\n",
       "        text-align: right;\n",
       "    }\n",
       "</style>\n",
       "<table border=\"1\" class=\"dataframe\">\n",
       "  <thead>\n",
       "    <tr style=\"text-align: right;\">\n",
       "      <th></th>\n",
       "      <th>id</th>\n",
       "      <th>price</th>\n",
       "      <th>bedrooms</th>\n",
       "      <th>bathrooms</th>\n",
       "      <th>sqft_living</th>\n",
       "      <th>sqft_lot</th>\n",
       "      <th>floors</th>\n",
       "      <th>waterfront</th>\n",
       "      <th>view</th>\n",
       "      <th>condition</th>\n",
       "      <th>grade</th>\n",
       "      <th>sqft_above</th>\n",
       "      <th>yr_built</th>\n",
       "      <th>yr_renovated</th>\n",
       "      <th>zipcode</th>\n",
       "      <th>lat</th>\n",
       "      <th>long</th>\n",
       "      <th>sqft_living15</th>\n",
       "      <th>sqft_lot15</th>\n",
       "    </tr>\n",
       "  </thead>\n",
       "  <tbody>\n",
       "    <tr>\n",
       "      <td>count</td>\n",
       "      <td>2.159700e+04</td>\n",
       "      <td>21597.000</td>\n",
       "      <td>21597.000</td>\n",
       "      <td>21597.000</td>\n",
       "      <td>21597.000</td>\n",
       "      <td>21597.000</td>\n",
       "      <td>21597.000</td>\n",
       "      <td>19221.000</td>\n",
       "      <td>21534.000</td>\n",
       "      <td>21597.000</td>\n",
       "      <td>21597.000</td>\n",
       "      <td>21597.000</td>\n",
       "      <td>21597.000</td>\n",
       "      <td>17755.000</td>\n",
       "      <td>21597.000</td>\n",
       "      <td>21597.000</td>\n",
       "      <td>21597.000</td>\n",
       "      <td>21597.00</td>\n",
       "      <td>21597.000</td>\n",
       "    </tr>\n",
       "    <tr>\n",
       "      <td>mean</td>\n",
       "      <td>4.580474e+09</td>\n",
       "      <td>540296.574</td>\n",
       "      <td>3.373</td>\n",
       "      <td>2.116</td>\n",
       "      <td>2080.322</td>\n",
       "      <td>15099.409</td>\n",
       "      <td>1.494</td>\n",
       "      <td>0.008</td>\n",
       "      <td>0.234</td>\n",
       "      <td>3.410</td>\n",
       "      <td>7.658</td>\n",
       "      <td>1788.597</td>\n",
       "      <td>1971.000</td>\n",
       "      <td>83.637</td>\n",
       "      <td>98077.952</td>\n",
       "      <td>47.560</td>\n",
       "      <td>-122.214</td>\n",
       "      <td>1986.62</td>\n",
       "      <td>12758.284</td>\n",
       "    </tr>\n",
       "    <tr>\n",
       "      <td>std</td>\n",
       "      <td>2.876736e+09</td>\n",
       "      <td>367368.140</td>\n",
       "      <td>0.926</td>\n",
       "      <td>0.769</td>\n",
       "      <td>918.106</td>\n",
       "      <td>41412.637</td>\n",
       "      <td>0.540</td>\n",
       "      <td>0.087</td>\n",
       "      <td>0.766</td>\n",
       "      <td>0.651</td>\n",
       "      <td>1.173</td>\n",
       "      <td>827.760</td>\n",
       "      <td>29.375</td>\n",
       "      <td>399.946</td>\n",
       "      <td>53.513</td>\n",
       "      <td>0.139</td>\n",
       "      <td>0.141</td>\n",
       "      <td>685.23</td>\n",
       "      <td>27274.442</td>\n",
       "    </tr>\n",
       "    <tr>\n",
       "      <td>min</td>\n",
       "      <td>1.000102e+06</td>\n",
       "      <td>78000.000</td>\n",
       "      <td>1.000</td>\n",
       "      <td>0.500</td>\n",
       "      <td>370.000</td>\n",
       "      <td>520.000</td>\n",
       "      <td>1.000</td>\n",
       "      <td>0.000</td>\n",
       "      <td>0.000</td>\n",
       "      <td>1.000</td>\n",
       "      <td>3.000</td>\n",
       "      <td>370.000</td>\n",
       "      <td>1900.000</td>\n",
       "      <td>0.000</td>\n",
       "      <td>98001.000</td>\n",
       "      <td>47.156</td>\n",
       "      <td>-122.519</td>\n",
       "      <td>399.00</td>\n",
       "      <td>651.000</td>\n",
       "    </tr>\n",
       "    <tr>\n",
       "      <td>25%</td>\n",
       "      <td>2.123049e+09</td>\n",
       "      <td>322000.000</td>\n",
       "      <td>3.000</td>\n",
       "      <td>1.750</td>\n",
       "      <td>1430.000</td>\n",
       "      <td>5040.000</td>\n",
       "      <td>1.000</td>\n",
       "      <td>0.000</td>\n",
       "      <td>0.000</td>\n",
       "      <td>3.000</td>\n",
       "      <td>7.000</td>\n",
       "      <td>1190.000</td>\n",
       "      <td>1951.000</td>\n",
       "      <td>0.000</td>\n",
       "      <td>98033.000</td>\n",
       "      <td>47.471</td>\n",
       "      <td>-122.328</td>\n",
       "      <td>1490.00</td>\n",
       "      <td>5100.000</td>\n",
       "    </tr>\n",
       "    <tr>\n",
       "      <td>50%</td>\n",
       "      <td>3.904930e+09</td>\n",
       "      <td>450000.000</td>\n",
       "      <td>3.000</td>\n",
       "      <td>2.250</td>\n",
       "      <td>1910.000</td>\n",
       "      <td>7618.000</td>\n",
       "      <td>1.500</td>\n",
       "      <td>0.000</td>\n",
       "      <td>0.000</td>\n",
       "      <td>3.000</td>\n",
       "      <td>7.000</td>\n",
       "      <td>1560.000</td>\n",
       "      <td>1975.000</td>\n",
       "      <td>0.000</td>\n",
       "      <td>98065.000</td>\n",
       "      <td>47.572</td>\n",
       "      <td>-122.231</td>\n",
       "      <td>1840.00</td>\n",
       "      <td>7620.000</td>\n",
       "    </tr>\n",
       "    <tr>\n",
       "      <td>75%</td>\n",
       "      <td>7.308900e+09</td>\n",
       "      <td>645000.000</td>\n",
       "      <td>4.000</td>\n",
       "      <td>2.500</td>\n",
       "      <td>2550.000</td>\n",
       "      <td>10685.000</td>\n",
       "      <td>2.000</td>\n",
       "      <td>0.000</td>\n",
       "      <td>0.000</td>\n",
       "      <td>4.000</td>\n",
       "      <td>8.000</td>\n",
       "      <td>2210.000</td>\n",
       "      <td>1997.000</td>\n",
       "      <td>0.000</td>\n",
       "      <td>98118.000</td>\n",
       "      <td>47.678</td>\n",
       "      <td>-122.125</td>\n",
       "      <td>2360.00</td>\n",
       "      <td>10083.000</td>\n",
       "    </tr>\n",
       "    <tr>\n",
       "      <td>max</td>\n",
       "      <td>9.900000e+09</td>\n",
       "      <td>7700000.000</td>\n",
       "      <td>33.000</td>\n",
       "      <td>8.000</td>\n",
       "      <td>13540.000</td>\n",
       "      <td>1651359.000</td>\n",
       "      <td>3.500</td>\n",
       "      <td>1.000</td>\n",
       "      <td>4.000</td>\n",
       "      <td>5.000</td>\n",
       "      <td>13.000</td>\n",
       "      <td>9410.000</td>\n",
       "      <td>2015.000</td>\n",
       "      <td>2015.000</td>\n",
       "      <td>98199.000</td>\n",
       "      <td>47.778</td>\n",
       "      <td>-121.315</td>\n",
       "      <td>6210.00</td>\n",
       "      <td>871200.000</td>\n",
       "    </tr>\n",
       "  </tbody>\n",
       "</table>\n",
       "</div>"
      ],
      "text/plain": [
       "                 id        price   bedrooms  bathrooms  sqft_living  \\\n",
       "count  2.159700e+04    21597.000  21597.000  21597.000    21597.000   \n",
       "mean   4.580474e+09   540296.574      3.373      2.116     2080.322   \n",
       "std    2.876736e+09   367368.140      0.926      0.769      918.106   \n",
       "min    1.000102e+06    78000.000      1.000      0.500      370.000   \n",
       "25%    2.123049e+09   322000.000      3.000      1.750     1430.000   \n",
       "50%    3.904930e+09   450000.000      3.000      2.250     1910.000   \n",
       "75%    7.308900e+09   645000.000      4.000      2.500     2550.000   \n",
       "max    9.900000e+09  7700000.000     33.000      8.000    13540.000   \n",
       "\n",
       "          sqft_lot     floors  waterfront       view  condition      grade  \\\n",
       "count    21597.000  21597.000   19221.000  21534.000  21597.000  21597.000   \n",
       "mean     15099.409      1.494       0.008      0.234      3.410      7.658   \n",
       "std      41412.637      0.540       0.087      0.766      0.651      1.173   \n",
       "min        520.000      1.000       0.000      0.000      1.000      3.000   \n",
       "25%       5040.000      1.000       0.000      0.000      3.000      7.000   \n",
       "50%       7618.000      1.500       0.000      0.000      3.000      7.000   \n",
       "75%      10685.000      2.000       0.000      0.000      4.000      8.000   \n",
       "max    1651359.000      3.500       1.000      4.000      5.000     13.000   \n",
       "\n",
       "       sqft_above   yr_built  yr_renovated    zipcode        lat       long  \\\n",
       "count   21597.000  21597.000     17755.000  21597.000  21597.000  21597.000   \n",
       "mean     1788.597   1971.000        83.637  98077.952     47.560   -122.214   \n",
       "std       827.760     29.375       399.946     53.513      0.139      0.141   \n",
       "min       370.000   1900.000         0.000  98001.000     47.156   -122.519   \n",
       "25%      1190.000   1951.000         0.000  98033.000     47.471   -122.328   \n",
       "50%      1560.000   1975.000         0.000  98065.000     47.572   -122.231   \n",
       "75%      2210.000   1997.000         0.000  98118.000     47.678   -122.125   \n",
       "max      9410.000   2015.000      2015.000  98199.000     47.778   -121.315   \n",
       "\n",
       "       sqft_living15  sqft_lot15  \n",
       "count       21597.00   21597.000  \n",
       "mean         1986.62   12758.284  \n",
       "std           685.23   27274.442  \n",
       "min           399.00     651.000  \n",
       "25%          1490.00    5100.000  \n",
       "50%          1840.00    7620.000  \n",
       "75%          2360.00   10083.000  \n",
       "max          6210.00  871200.000  "
      ]
     },
     "execution_count": 6,
     "metadata": {},
     "output_type": "execute_result"
    }
   ],
   "source": [
    "df.describe().round(3)"
   ]
  },
  {
   "cell_type": "code",
   "execution_count": 7,
   "metadata": {},
   "outputs": [
    {
     "data": {
      "text/plain": [
       "id                  0\n",
       "date                0\n",
       "price               0\n",
       "bedrooms            0\n",
       "bathrooms           0\n",
       "sqft_living         0\n",
       "sqft_lot            0\n",
       "floors              0\n",
       "waterfront       2376\n",
       "view               63\n",
       "condition           0\n",
       "grade               0\n",
       "sqft_above          0\n",
       "sqft_basement       0\n",
       "yr_built            0\n",
       "yr_renovated     3842\n",
       "zipcode             0\n",
       "lat                 0\n",
       "long                0\n",
       "sqft_living15       0\n",
       "sqft_lot15          0\n",
       "dtype: int64"
      ]
     },
     "execution_count": 7,
     "metadata": {},
     "output_type": "execute_result"
    }
   ],
   "source": [
    "df.isna().sum()"
   ]
  },
  {
   "cell_type": "code",
   "execution_count": 8,
   "metadata": {
    "scrolled": true
   },
   "outputs": [
    {
     "data": {
      "text/plain": [
       "id                  0\n",
       "date                0\n",
       "price               0\n",
       "bedrooms            0\n",
       "bathrooms           0\n",
       "sqft_living         0\n",
       "sqft_lot            0\n",
       "floors              0\n",
       "waterfront       2376\n",
       "view               63\n",
       "condition           0\n",
       "grade               0\n",
       "sqft_above          0\n",
       "sqft_basement       0\n",
       "yr_built            0\n",
       "yr_renovated     3842\n",
       "zipcode             0\n",
       "lat                 0\n",
       "long                0\n",
       "sqft_living15       0\n",
       "sqft_lot15          0\n",
       "dtype: int64"
      ]
     },
     "execution_count": 8,
     "metadata": {},
     "output_type": "execute_result"
    }
   ],
   "source": [
    "df.isnull().sum()"
   ]
  },
  {
   "cell_type": "markdown",
   "metadata": {},
   "source": [
    "Null Values"
   ]
  },
  {
   "cell_type": "code",
   "execution_count": 9,
   "metadata": {},
   "outputs": [
    {
     "name": "stdout",
     "output_type": "stream",
     "text": [
      "0\n"
     ]
    }
   ],
   "source": [
    "#do any rows have duplicate data.\n",
    "duplicates = df[df.duplicated()]\n",
    "print(len(duplicates))"
   ]
  },
  {
   "cell_type": "code",
   "execution_count": 10,
   "metadata": {
    "scrolled": true
   },
   "outputs": [
    {
     "data": {
      "text/plain": [
       "id                0.000000\n",
       "date              0.000000\n",
       "price             0.000000\n",
       "bedrooms          0.000000\n",
       "bathrooms         0.000000\n",
       "sqft_living       0.000000\n",
       "sqft_lot          0.000000\n",
       "floors            0.000000\n",
       "waterfront       11.001528\n",
       "view              0.291707\n",
       "condition         0.000000\n",
       "grade             0.000000\n",
       "sqft_above        0.000000\n",
       "sqft_basement     0.000000\n",
       "yr_built          0.000000\n",
       "yr_renovated     17.789508\n",
       "zipcode           0.000000\n",
       "lat               0.000000\n",
       "long              0.000000\n",
       "sqft_living15     0.000000\n",
       "sqft_lot15        0.000000\n",
       "dtype: float64"
      ]
     },
     "execution_count": 10,
     "metadata": {},
     "output_type": "execute_result"
    }
   ],
   "source": [
    "#missing values\n",
    "# waterfront 2376   11%\n",
    "#view        63     0.2%\n",
    "# yr_renovated 3842 17.789%\n",
    "df.isnull().sum() * 100/ len(df)"
   ]
  },
  {
   "cell_type": "code",
   "execution_count": 11,
   "metadata": {},
   "outputs": [
    {
     "name": "stdout",
     "output_type": "stream",
     "text": [
      "0.0    19075\n",
      "NaN     2376\n",
      "1.0      146\n",
      "Name: waterfront, dtype: int64\n",
      "---------\n",
      "0.0    88.322452\n",
      "NaN    11.001528\n",
      "1.0     0.676020\n",
      "Name: waterfront, dtype: float64\n"
     ]
    }
   ],
   "source": [
    "#waterfront - House which has a view to a waterfront\n",
    "print(df['waterfront'].value_counts(dropna=False) )\n",
    "print('---------')\n",
    "print(df['waterfront'].value_counts(dropna=False) * 100 / len(df['waterfront']))"
   ]
  },
  {
   "cell_type": "code",
   "execution_count": 12,
   "metadata": {},
   "outputs": [
    {
     "data": {
      "text/plain": [
       "array([nan,  0.,  1.])"
      ]
     },
     "execution_count": 12,
     "metadata": {},
     "output_type": "execute_result"
    }
   ],
   "source": [
    "df['waterfront'].unique()"
   ]
  },
  {
   "cell_type": "code",
   "execution_count": 13,
   "metadata": {},
   "outputs": [],
   "source": [
    "housing_df = df.copy()"
   ]
  },
  {
   "cell_type": "code",
   "execution_count": 14,
   "metadata": {},
   "outputs": [
    {
     "data": {
      "text/plain": [
       "2376"
      ]
     },
     "execution_count": 14,
     "metadata": {},
     "output_type": "execute_result"
    }
   ],
   "source": [
    "housing_df['waterfront'].isnull().sum()"
   ]
  },
  {
   "cell_type": "code",
   "execution_count": 15,
   "metadata": {},
   "outputs": [],
   "source": [
    "\n",
    "try:\n",
    "    housing_df['waterfront'].fillna(value=housing_df['waterfront'].mode()[0], inplace=True)\n",
    "except:\n",
    "    print('not in the dataframe.')        "
   ]
  },
  {
   "cell_type": "code",
   "execution_count": 16,
   "metadata": {},
   "outputs": [
    {
     "data": {
      "text/plain": [
       "0"
      ]
     },
     "execution_count": 16,
     "metadata": {},
     "output_type": "execute_result"
    }
   ],
   "source": [
    "housing_df['waterfront'].isnull().sum()"
   ]
  },
  {
   "cell_type": "code",
   "execution_count": 17,
   "metadata": {},
   "outputs": [
    {
     "data": {
      "text/plain": [
       "0.0    21451\n",
       "1.0      146\n",
       "Name: waterfront, dtype: int64"
      ]
     },
     "execution_count": 17,
     "metadata": {},
     "output_type": "execute_result"
    }
   ],
   "source": [
    "# 21,597\n",
    "housing_df['waterfront'].value_counts(dropna=False)"
   ]
  },
  {
   "cell_type": "code",
   "execution_count": 18,
   "metadata": {},
   "outputs": [
    {
     "name": "stdout",
     "output_type": "stream",
     "text": [
      "0.0       17011\n",
      "NaN        3842\n",
      "2014.0       73\n",
      "2003.0       31\n",
      "2013.0       31\n",
      "          ...  \n",
      "1944.0        1\n",
      "1948.0        1\n",
      "1976.0        1\n",
      "1934.0        1\n",
      "1953.0        1\n",
      "Name: yr_renovated, Length: 71, dtype: int64\n",
      "---------------\n",
      "0.0       78.765569\n",
      "NaN       17.789508\n",
      "2014.0     0.338010\n",
      "2003.0     0.143538\n",
      "2013.0     0.143538\n",
      "            ...    \n",
      "1944.0     0.004630\n",
      "1948.0     0.004630\n",
      "1976.0     0.004630\n",
      "1934.0     0.004630\n",
      "1953.0     0.004630\n",
      "Name: yr_renovated, Length: 71, dtype: float64\n"
     ]
    }
   ],
   "source": [
    "#years renovated\n",
    "#yr_renovated \n",
    "#it looks like the majority of homes weren't renovated or 78% of variable\n",
    "\n",
    "print(df['yr_renovated'].value_counts(dropna=False))\n",
    "print('---------------')\n",
    "print(df['yr_renovated'].value_counts(dropna=False) *100 / len(df['yr_renovated']))"
   ]
  },
  {
   "cell_type": "code",
   "execution_count": 19,
   "metadata": {},
   "outputs": [
    {
     "data": {
      "text/plain": [
       "array([   0., 1991.,   nan, 2002., 2010., 1992., 2013., 1994., 1978.,\n",
       "       2005., 2003., 1984., 1954., 2014., 2011., 1983., 1945., 1990.,\n",
       "       1988., 1977., 1981., 1995., 2000., 1999., 1998., 1970., 1989.,\n",
       "       2004., 1986., 2007., 1987., 2006., 1985., 2001., 1980., 1971.,\n",
       "       1979., 1997., 1950., 1969., 1948., 2009., 2015., 1974., 2008.,\n",
       "       1968., 2012., 1963., 1951., 1962., 1953., 1993., 1996., 1955.,\n",
       "       1982., 1956., 1940., 1976., 1946., 1975., 1964., 1973., 1957.,\n",
       "       1959., 1960., 1967., 1965., 1934., 1972., 1944., 1958.])"
      ]
     },
     "execution_count": 19,
     "metadata": {},
     "output_type": "execute_result"
    }
   ],
   "source": [
    "df['yr_renovated'].unique()"
   ]
  },
  {
   "cell_type": "code",
   "execution_count": 20,
   "metadata": {},
   "outputs": [],
   "source": [
    "try:\n",
    "    housing_df['yr_renovated'].fillna(value=housing_df['yr_renovated'].mode()[0], inplace=True)\n",
    "except:\n",
    "    print('not in the dataframe.')   "
   ]
  },
  {
   "cell_type": "code",
   "execution_count": 21,
   "metadata": {},
   "outputs": [
    {
     "data": {
      "text/plain": [
       "0.0       20853\n",
       "2014.0       73\n",
       "2003.0       31\n",
       "2013.0       31\n",
       "2007.0       30\n",
       "          ...  \n",
       "1946.0        1\n",
       "1959.0        1\n",
       "1971.0        1\n",
       "1951.0        1\n",
       "1954.0        1\n",
       "Name: yr_renovated, Length: 70, dtype: int64"
      ]
     },
     "execution_count": 21,
     "metadata": {},
     "output_type": "execute_result"
    }
   ],
   "source": [
    "housing_df['yr_renovated'].value_counts() "
   ]
  },
  {
   "cell_type": "code",
   "execution_count": 22,
   "metadata": {},
   "outputs": [
    {
     "data": {
      "text/plain": [
       "0"
      ]
     },
     "execution_count": 22,
     "metadata": {},
     "output_type": "execute_result"
    }
   ],
   "source": [
    "housing_df['yr_renovated'].isnull().sum()"
   ]
  },
  {
   "cell_type": "code",
   "execution_count": 23,
   "metadata": {},
   "outputs": [],
   "source": [
    "#housing_1 = housing_df.copy()"
   ]
  },
  {
   "cell_type": "code",
   "execution_count": 24,
   "metadata": {},
   "outputs": [],
   "source": [
    "#NaN for view doesn't even make 1% so I'm going to drop them \n",
    "#view             0.291707 \n",
    "#data = data.dropna(subset=['sms'])\n",
    "housing_df = housing_df.dropna(subset=['view'])"
   ]
  },
  {
   "cell_type": "code",
   "execution_count": 25,
   "metadata": {},
   "outputs": [
    {
     "data": {
      "text/plain": [
       "0"
      ]
     },
     "execution_count": 25,
     "metadata": {},
     "output_type": "execute_result"
    }
   ],
   "source": [
    "housing_df['view'].isnull().sum()"
   ]
  },
  {
   "cell_type": "code",
   "execution_count": 26,
   "metadata": {},
   "outputs": [
    {
     "data": {
      "text/plain": [
       "id               0\n",
       "date             0\n",
       "price            0\n",
       "bedrooms         0\n",
       "bathrooms        0\n",
       "sqft_living      0\n",
       "sqft_lot         0\n",
       "floors           0\n",
       "waterfront       0\n",
       "view             0\n",
       "condition        0\n",
       "grade            0\n",
       "sqft_above       0\n",
       "sqft_basement    0\n",
       "yr_built         0\n",
       "yr_renovated     0\n",
       "zipcode          0\n",
       "lat              0\n",
       "long             0\n",
       "sqft_living15    0\n",
       "sqft_lot15       0\n",
       "dtype: int64"
      ]
     },
     "execution_count": 26,
     "metadata": {},
     "output_type": "execute_result"
    }
   ],
   "source": [
    "housing_df.isnull().sum()"
   ]
  },
  {
   "cell_type": "markdown",
   "metadata": {},
   "source": [
    "Convert Object Datatypes"
   ]
  },
  {
   "cell_type": "code",
   "execution_count": 27,
   "metadata": {},
   "outputs": [
    {
     "data": {
      "text/html": [
       "<div>\n",
       "<style scoped>\n",
       "    .dataframe tbody tr th:only-of-type {\n",
       "        vertical-align: middle;\n",
       "    }\n",
       "\n",
       "    .dataframe tbody tr th {\n",
       "        vertical-align: top;\n",
       "    }\n",
       "\n",
       "    .dataframe thead th {\n",
       "        text-align: right;\n",
       "    }\n",
       "</style>\n",
       "<table border=\"1\" class=\"dataframe\">\n",
       "  <thead>\n",
       "    <tr style=\"text-align: right;\">\n",
       "      <th></th>\n",
       "      <th>date</th>\n",
       "      <th>sqft_basement</th>\n",
       "    </tr>\n",
       "  </thead>\n",
       "  <tbody>\n",
       "    <tr>\n",
       "      <td>0</td>\n",
       "      <td>10/13/2014</td>\n",
       "      <td>0.0</td>\n",
       "    </tr>\n",
       "    <tr>\n",
       "      <td>1</td>\n",
       "      <td>12/9/2014</td>\n",
       "      <td>400.0</td>\n",
       "    </tr>\n",
       "    <tr>\n",
       "      <td>2</td>\n",
       "      <td>2/25/2015</td>\n",
       "      <td>0.0</td>\n",
       "    </tr>\n",
       "    <tr>\n",
       "      <td>3</td>\n",
       "      <td>12/9/2014</td>\n",
       "      <td>910.0</td>\n",
       "    </tr>\n",
       "    <tr>\n",
       "      <td>4</td>\n",
       "      <td>2/18/2015</td>\n",
       "      <td>0.0</td>\n",
       "    </tr>\n",
       "    <tr>\n",
       "      <td>...</td>\n",
       "      <td>...</td>\n",
       "      <td>...</td>\n",
       "    </tr>\n",
       "    <tr>\n",
       "      <td>21592</td>\n",
       "      <td>5/21/2014</td>\n",
       "      <td>0.0</td>\n",
       "    </tr>\n",
       "    <tr>\n",
       "      <td>21593</td>\n",
       "      <td>2/23/2015</td>\n",
       "      <td>0.0</td>\n",
       "    </tr>\n",
       "    <tr>\n",
       "      <td>21594</td>\n",
       "      <td>6/23/2014</td>\n",
       "      <td>0.0</td>\n",
       "    </tr>\n",
       "    <tr>\n",
       "      <td>21595</td>\n",
       "      <td>1/16/2015</td>\n",
       "      <td>0.0</td>\n",
       "    </tr>\n",
       "    <tr>\n",
       "      <td>21596</td>\n",
       "      <td>10/15/2014</td>\n",
       "      <td>0.0</td>\n",
       "    </tr>\n",
       "  </tbody>\n",
       "</table>\n",
       "<p>21534 rows × 2 columns</p>\n",
       "</div>"
      ],
      "text/plain": [
       "             date sqft_basement\n",
       "0      10/13/2014           0.0\n",
       "1       12/9/2014         400.0\n",
       "2       2/25/2015           0.0\n",
       "3       12/9/2014         910.0\n",
       "4       2/18/2015           0.0\n",
       "...           ...           ...\n",
       "21592   5/21/2014           0.0\n",
       "21593   2/23/2015           0.0\n",
       "21594   6/23/2014           0.0\n",
       "21595   1/16/2015           0.0\n",
       "21596  10/15/2014           0.0\n",
       "\n",
       "[21534 rows x 2 columns]"
      ]
     },
     "execution_count": 27,
     "metadata": {},
     "output_type": "execute_result"
    }
   ],
   "source": [
    "#df.loc[:, df.dtypes == object]\n",
    "housing_df.loc[:, housing_df.dtypes == object]"
   ]
  },
  {
   "cell_type": "code",
   "execution_count": 28,
   "metadata": {},
   "outputs": [
    {
     "data": {
      "text/plain": [
       "0.0       12798\n",
       "?           452\n",
       "600.0       216\n",
       "500.0       209\n",
       "700.0       207\n",
       "          ...  \n",
       "1798.0        1\n",
       "266.0         1\n",
       "652.0         1\n",
       "172.0         1\n",
       "417.0         1\n",
       "Name: sqft_basement, Length: 302, dtype: int64"
      ]
     },
     "execution_count": 28,
     "metadata": {},
     "output_type": "execute_result"
    }
   ],
   "source": [
    "#sqft_basement - square footage of the basement\n",
    "housing_df['sqft_basement'].value_counts()"
   ]
  },
  {
   "cell_type": "code",
   "execution_count": 29,
   "metadata": {},
   "outputs": [
    {
     "data": {
      "text/plain": [
       "0.0       59.431597\n",
       "?          2.099006\n",
       "600.0      1.003065\n",
       "500.0      0.970558\n",
       "700.0      0.961271\n",
       "            ...    \n",
       "1798.0     0.004644\n",
       "266.0      0.004644\n",
       "652.0      0.004644\n",
       "172.0      0.004644\n",
       "417.0      0.004644\n",
       "Name: sqft_basement, Length: 302, dtype: float64"
      ]
     },
     "execution_count": 29,
     "metadata": {},
     "output_type": "execute_result"
    }
   ],
   "source": [
    "housing_df['sqft_basement'].value_counts() *100 / len(housing_df['sqft_basement'])"
   ]
  },
  {
   "cell_type": "code",
   "execution_count": 30,
   "metadata": {},
   "outputs": [],
   "source": [
    "housing_df[\"sqft_basement\"] = housing_df[\"sqft_basement\"].replace(\"?\", '0.0')"
   ]
  },
  {
   "cell_type": "code",
   "execution_count": 31,
   "metadata": {},
   "outputs": [
    {
     "data": {
      "text/plain": [
       "0.0       13250\n",
       "600.0       216\n",
       "500.0       209\n",
       "700.0       207\n",
       "800.0       201\n",
       "          ...  \n",
       "1798.0        1\n",
       "266.0         1\n",
       "652.0         1\n",
       "172.0         1\n",
       "417.0         1\n",
       "Name: sqft_basement, Length: 301, dtype: int64"
      ]
     },
     "execution_count": 31,
     "metadata": {},
     "output_type": "execute_result"
    }
   ],
   "source": [
    "housing_df['sqft_basement'].value_counts()"
   ]
  },
  {
   "cell_type": "code",
   "execution_count": 32,
   "metadata": {},
   "outputs": [
    {
     "name": "stdout",
     "output_type": "stream",
     "text": [
      "<class 'pandas.core.frame.DataFrame'>\n",
      "Int64Index: 21534 entries, 0 to 21596\n",
      "Data columns (total 21 columns):\n",
      "id               21534 non-null int64\n",
      "date             21534 non-null object\n",
      "price            21534 non-null float64\n",
      "bedrooms         21534 non-null int64\n",
      "bathrooms        21534 non-null float64\n",
      "sqft_living      21534 non-null int64\n",
      "sqft_lot         21534 non-null int64\n",
      "floors           21534 non-null float64\n",
      "waterfront       21534 non-null float64\n",
      "view             21534 non-null float64\n",
      "condition        21534 non-null int64\n",
      "grade            21534 non-null int64\n",
      "sqft_above       21534 non-null int64\n",
      "sqft_basement    21534 non-null object\n",
      "yr_built         21534 non-null int64\n",
      "yr_renovated     21534 non-null float64\n",
      "zipcode          21534 non-null int64\n",
      "lat              21534 non-null float64\n",
      "long             21534 non-null float64\n",
      "sqft_living15    21534 non-null int64\n",
      "sqft_lot15       21534 non-null int64\n",
      "dtypes: float64(8), int64(11), object(2)\n",
      "memory usage: 3.6+ MB\n"
     ]
    }
   ],
   "source": [
    "housing_df.info()"
   ]
  },
  {
   "cell_type": "code",
   "execution_count": 33,
   "metadata": {},
   "outputs": [],
   "source": [
    "#housing_1 = housing_df.copy()\n",
    "housing_df['sqft_basement']  = housing_df['sqft_basement'].astype('float64')"
   ]
  },
  {
   "cell_type": "code",
   "execution_count": 34,
   "metadata": {},
   "outputs": [
    {
     "name": "stdout",
     "output_type": "stream",
     "text": [
      "<class 'pandas.core.frame.DataFrame'>\n",
      "Int64Index: 21534 entries, 0 to 21596\n",
      "Data columns (total 21 columns):\n",
      "id               21534 non-null int64\n",
      "date             21534 non-null object\n",
      "price            21534 non-null float64\n",
      "bedrooms         21534 non-null int64\n",
      "bathrooms        21534 non-null float64\n",
      "sqft_living      21534 non-null int64\n",
      "sqft_lot         21534 non-null int64\n",
      "floors           21534 non-null float64\n",
      "waterfront       21534 non-null float64\n",
      "view             21534 non-null float64\n",
      "condition        21534 non-null int64\n",
      "grade            21534 non-null int64\n",
      "sqft_above       21534 non-null int64\n",
      "sqft_basement    21534 non-null float64\n",
      "yr_built         21534 non-null int64\n",
      "yr_renovated     21534 non-null float64\n",
      "zipcode          21534 non-null int64\n",
      "lat              21534 non-null float64\n",
      "long             21534 non-null float64\n",
      "sqft_living15    21534 non-null int64\n",
      "sqft_lot15       21534 non-null int64\n",
      "dtypes: float64(9), int64(11), object(1)\n",
      "memory usage: 3.6+ MB\n"
     ]
    }
   ],
   "source": [
    "housing_df.info()"
   ]
  },
  {
   "cell_type": "markdown",
   "metadata": {},
   "source": [
    "Convert date"
   ]
  },
  {
   "cell_type": "code",
   "execution_count": 43,
   "metadata": {},
   "outputs": [],
   "source": [
    "#housing_1 = housing_df.copy()\n",
    "housing_df['date'] = pd.to_datetime(housing_df['date'])"
   ]
  },
  {
   "cell_type": "code",
   "execution_count": 44,
   "metadata": {},
   "outputs": [
    {
     "name": "stdout",
     "output_type": "stream",
     "text": [
      "<class 'pandas.core.frame.DataFrame'>\n",
      "Int64Index: 21534 entries, 0 to 21596\n",
      "Data columns (total 21 columns):\n",
      "id               21534 non-null int64\n",
      "date             21534 non-null datetime64[ns]\n",
      "price            21534 non-null float64\n",
      "bedrooms         21534 non-null int64\n",
      "bathrooms        21534 non-null float64\n",
      "sqft_living      21534 non-null int64\n",
      "sqft_lot         21534 non-null int64\n",
      "floors           21534 non-null float64\n",
      "waterfront       21534 non-null float64\n",
      "view             21534 non-null float64\n",
      "condition        21534 non-null int64\n",
      "grade            21534 non-null int64\n",
      "sqft_above       21534 non-null int64\n",
      "sqft_basement    21534 non-null float64\n",
      "yr_built         21534 non-null int64\n",
      "yr_renovated     21534 non-null float64\n",
      "zipcode          21534 non-null int64\n",
      "lat              21534 non-null float64\n",
      "long             21534 non-null float64\n",
      "sqft_living15    21534 non-null int64\n",
      "sqft_lot15       21534 non-null int64\n",
      "dtypes: datetime64[ns](1), float64(9), int64(11)\n",
      "memory usage: 3.6 MB\n"
     ]
    }
   ],
   "source": [
    "housing_df.info()"
   ]
  },
  {
   "cell_type": "code",
   "execution_count": 45,
   "metadata": {},
   "outputs": [
    {
     "data": {
      "text/html": [
       "<div>\n",
       "<style scoped>\n",
       "    .dataframe tbody tr th:only-of-type {\n",
       "        vertical-align: middle;\n",
       "    }\n",
       "\n",
       "    .dataframe tbody tr th {\n",
       "        vertical-align: top;\n",
       "    }\n",
       "\n",
       "    .dataframe thead th {\n",
       "        text-align: right;\n",
       "    }\n",
       "</style>\n",
       "<table border=\"1\" class=\"dataframe\">\n",
       "  <thead>\n",
       "    <tr style=\"text-align: right;\">\n",
       "      <th></th>\n",
       "      <th>id</th>\n",
       "      <th>date</th>\n",
       "      <th>price</th>\n",
       "      <th>bedrooms</th>\n",
       "      <th>bathrooms</th>\n",
       "      <th>sqft_living</th>\n",
       "      <th>sqft_lot</th>\n",
       "      <th>floors</th>\n",
       "      <th>waterfront</th>\n",
       "      <th>view</th>\n",
       "      <th>condition</th>\n",
       "      <th>grade</th>\n",
       "      <th>sqft_above</th>\n",
       "      <th>sqft_basement</th>\n",
       "      <th>yr_built</th>\n",
       "      <th>yr_renovated</th>\n",
       "      <th>zipcode</th>\n",
       "      <th>lat</th>\n",
       "      <th>long</th>\n",
       "      <th>sqft_living15</th>\n",
       "      <th>sqft_lot15</th>\n",
       "    </tr>\n",
       "  </thead>\n",
       "  <tbody>\n",
       "    <tr>\n",
       "      <td>0</td>\n",
       "      <td>7129300520</td>\n",
       "      <td>2014-10-13</td>\n",
       "      <td>221900.0</td>\n",
       "      <td>3</td>\n",
       "      <td>1.00</td>\n",
       "      <td>1180</td>\n",
       "      <td>5650</td>\n",
       "      <td>1.0</td>\n",
       "      <td>0.0</td>\n",
       "      <td>0.0</td>\n",
       "      <td>3</td>\n",
       "      <td>7</td>\n",
       "      <td>1180</td>\n",
       "      <td>0.0</td>\n",
       "      <td>1955</td>\n",
       "      <td>0.0</td>\n",
       "      <td>98178</td>\n",
       "      <td>47.5112</td>\n",
       "      <td>-122.257</td>\n",
       "      <td>1340</td>\n",
       "      <td>5650</td>\n",
       "    </tr>\n",
       "    <tr>\n",
       "      <td>1</td>\n",
       "      <td>6414100192</td>\n",
       "      <td>2014-12-09</td>\n",
       "      <td>538000.0</td>\n",
       "      <td>3</td>\n",
       "      <td>2.25</td>\n",
       "      <td>2570</td>\n",
       "      <td>7242</td>\n",
       "      <td>2.0</td>\n",
       "      <td>0.0</td>\n",
       "      <td>0.0</td>\n",
       "      <td>3</td>\n",
       "      <td>7</td>\n",
       "      <td>2170</td>\n",
       "      <td>400.0</td>\n",
       "      <td>1951</td>\n",
       "      <td>1991.0</td>\n",
       "      <td>98125</td>\n",
       "      <td>47.7210</td>\n",
       "      <td>-122.319</td>\n",
       "      <td>1690</td>\n",
       "      <td>7639</td>\n",
       "    </tr>\n",
       "  </tbody>\n",
       "</table>\n",
       "</div>"
      ],
      "text/plain": [
       "           id       date     price  bedrooms  bathrooms  sqft_living  \\\n",
       "0  7129300520 2014-10-13  221900.0         3       1.00         1180   \n",
       "1  6414100192 2014-12-09  538000.0         3       2.25         2570   \n",
       "\n",
       "   sqft_lot  floors  waterfront  view  condition  grade  sqft_above  \\\n",
       "0      5650     1.0         0.0   0.0          3      7        1180   \n",
       "1      7242     2.0         0.0   0.0          3      7        2170   \n",
       "\n",
       "   sqft_basement  yr_built  yr_renovated  zipcode      lat     long  \\\n",
       "0            0.0      1955           0.0    98178  47.5112 -122.257   \n",
       "1          400.0      1951        1991.0    98125  47.7210 -122.319   \n",
       "\n",
       "   sqft_living15  sqft_lot15  \n",
       "0           1340        5650  \n",
       "1           1690        7639  "
      ]
     },
     "execution_count": 45,
     "metadata": {},
     "output_type": "execute_result"
    }
   ],
   "source": [
    "housing_df.head(2)"
   ]
  },
  {
   "cell_type": "code",
   "execution_count": 47,
   "metadata": {},
   "outputs": [
    {
     "data": {
      "text/html": [
       "<div>\n",
       "<style scoped>\n",
       "    .dataframe tbody tr th:only-of-type {\n",
       "        vertical-align: middle;\n",
       "    }\n",
       "\n",
       "    .dataframe tbody tr th {\n",
       "        vertical-align: top;\n",
       "    }\n",
       "\n",
       "    .dataframe thead th {\n",
       "        text-align: right;\n",
       "    }\n",
       "</style>\n",
       "<table border=\"1\" class=\"dataframe\">\n",
       "  <thead>\n",
       "    <tr style=\"text-align: right;\">\n",
       "      <th></th>\n",
       "      <th>id</th>\n",
       "      <th>price</th>\n",
       "      <th>bedrooms</th>\n",
       "      <th>bathrooms</th>\n",
       "      <th>sqft_living</th>\n",
       "      <th>sqft_lot</th>\n",
       "      <th>floors</th>\n",
       "      <th>waterfront</th>\n",
       "      <th>view</th>\n",
       "      <th>condition</th>\n",
       "      <th>grade</th>\n",
       "      <th>sqft_above</th>\n",
       "      <th>sqft_basement</th>\n",
       "      <th>yr_built</th>\n",
       "      <th>yr_renovated</th>\n",
       "      <th>zipcode</th>\n",
       "      <th>lat</th>\n",
       "      <th>long</th>\n",
       "      <th>sqft_living15</th>\n",
       "      <th>sqft_lot15</th>\n",
       "    </tr>\n",
       "  </thead>\n",
       "  <tbody>\n",
       "    <tr>\n",
       "      <td>count</td>\n",
       "      <td>2.153400e+04</td>\n",
       "      <td>21534.000</td>\n",
       "      <td>21534.000</td>\n",
       "      <td>21534.000</td>\n",
       "      <td>21534.000</td>\n",
       "      <td>21534.000</td>\n",
       "      <td>21534.000</td>\n",
       "      <td>21534.000</td>\n",
       "      <td>21534.000</td>\n",
       "      <td>21534.000</td>\n",
       "      <td>21534.000</td>\n",
       "      <td>21534.000</td>\n",
       "      <td>21534.000</td>\n",
       "      <td>21534.000</td>\n",
       "      <td>21534.000</td>\n",
       "      <td>21534.000</td>\n",
       "      <td>21534.000</td>\n",
       "      <td>21534.000</td>\n",
       "      <td>21534.000</td>\n",
       "      <td>21534.000</td>\n",
       "    </tr>\n",
       "    <tr>\n",
       "      <td>mean</td>\n",
       "      <td>4.582351e+09</td>\n",
       "      <td>540057.664</td>\n",
       "      <td>3.373</td>\n",
       "      <td>2.116</td>\n",
       "      <td>2079.828</td>\n",
       "      <td>15090.596</td>\n",
       "      <td>1.494</td>\n",
       "      <td>0.007</td>\n",
       "      <td>0.234</td>\n",
       "      <td>3.410</td>\n",
       "      <td>7.657</td>\n",
       "      <td>1788.558</td>\n",
       "      <td>285.244</td>\n",
       "      <td>1971.002</td>\n",
       "      <td>68.867</td>\n",
       "      <td>98077.939</td>\n",
       "      <td>47.560</td>\n",
       "      <td>-122.214</td>\n",
       "      <td>1986.300</td>\n",
       "      <td>12751.080</td>\n",
       "    </tr>\n",
       "    <tr>\n",
       "      <td>std</td>\n",
       "      <td>2.876779e+09</td>\n",
       "      <td>366059.581</td>\n",
       "      <td>0.926</td>\n",
       "      <td>0.769</td>\n",
       "      <td>917.447</td>\n",
       "      <td>41380.210</td>\n",
       "      <td>0.540</td>\n",
       "      <td>0.082</td>\n",
       "      <td>0.766</td>\n",
       "      <td>0.651</td>\n",
       "      <td>1.173</td>\n",
       "      <td>827.746</td>\n",
       "      <td>439.334</td>\n",
       "      <td>29.376</td>\n",
       "      <td>364.315</td>\n",
       "      <td>53.507</td>\n",
       "      <td>0.139</td>\n",
       "      <td>0.141</td>\n",
       "      <td>685.121</td>\n",
       "      <td>27255.483</td>\n",
       "    </tr>\n",
       "    <tr>\n",
       "      <td>min</td>\n",
       "      <td>1.000102e+06</td>\n",
       "      <td>78000.000</td>\n",
       "      <td>1.000</td>\n",
       "      <td>0.500</td>\n",
       "      <td>370.000</td>\n",
       "      <td>520.000</td>\n",
       "      <td>1.000</td>\n",
       "      <td>0.000</td>\n",
       "      <td>0.000</td>\n",
       "      <td>1.000</td>\n",
       "      <td>3.000</td>\n",
       "      <td>370.000</td>\n",
       "      <td>0.000</td>\n",
       "      <td>1900.000</td>\n",
       "      <td>0.000</td>\n",
       "      <td>98001.000</td>\n",
       "      <td>47.156</td>\n",
       "      <td>-122.519</td>\n",
       "      <td>399.000</td>\n",
       "      <td>651.000</td>\n",
       "    </tr>\n",
       "    <tr>\n",
       "      <td>25%</td>\n",
       "      <td>2.123212e+09</td>\n",
       "      <td>322000.000</td>\n",
       "      <td>3.000</td>\n",
       "      <td>1.750</td>\n",
       "      <td>1430.000</td>\n",
       "      <td>5040.000</td>\n",
       "      <td>1.000</td>\n",
       "      <td>0.000</td>\n",
       "      <td>0.000</td>\n",
       "      <td>3.000</td>\n",
       "      <td>7.000</td>\n",
       "      <td>1190.000</td>\n",
       "      <td>0.000</td>\n",
       "      <td>1951.000</td>\n",
       "      <td>0.000</td>\n",
       "      <td>98033.000</td>\n",
       "      <td>47.471</td>\n",
       "      <td>-122.328</td>\n",
       "      <td>1490.000</td>\n",
       "      <td>5100.000</td>\n",
       "    </tr>\n",
       "    <tr>\n",
       "      <td>50%</td>\n",
       "      <td>3.904945e+09</td>\n",
       "      <td>450000.000</td>\n",
       "      <td>3.000</td>\n",
       "      <td>2.250</td>\n",
       "      <td>1910.000</td>\n",
       "      <td>7617.000</td>\n",
       "      <td>1.500</td>\n",
       "      <td>0.000</td>\n",
       "      <td>0.000</td>\n",
       "      <td>3.000</td>\n",
       "      <td>7.000</td>\n",
       "      <td>1560.000</td>\n",
       "      <td>0.000</td>\n",
       "      <td>1975.000</td>\n",
       "      <td>0.000</td>\n",
       "      <td>98065.000</td>\n",
       "      <td>47.572</td>\n",
       "      <td>-122.230</td>\n",
       "      <td>1840.000</td>\n",
       "      <td>7620.000</td>\n",
       "    </tr>\n",
       "    <tr>\n",
       "      <td>75%</td>\n",
       "      <td>7.312175e+09</td>\n",
       "      <td>645000.000</td>\n",
       "      <td>4.000</td>\n",
       "      <td>2.500</td>\n",
       "      <td>2550.000</td>\n",
       "      <td>10687.750</td>\n",
       "      <td>2.000</td>\n",
       "      <td>0.000</td>\n",
       "      <td>0.000</td>\n",
       "      <td>4.000</td>\n",
       "      <td>8.000</td>\n",
       "      <td>2210.000</td>\n",
       "      <td>550.000</td>\n",
       "      <td>1997.000</td>\n",
       "      <td>0.000</td>\n",
       "      <td>98118.000</td>\n",
       "      <td>47.678</td>\n",
       "      <td>-122.125</td>\n",
       "      <td>2360.000</td>\n",
       "      <td>10083.000</td>\n",
       "    </tr>\n",
       "    <tr>\n",
       "      <td>max</td>\n",
       "      <td>9.900000e+09</td>\n",
       "      <td>7700000.000</td>\n",
       "      <td>33.000</td>\n",
       "      <td>8.000</td>\n",
       "      <td>13540.000</td>\n",
       "      <td>1651359.000</td>\n",
       "      <td>3.500</td>\n",
       "      <td>1.000</td>\n",
       "      <td>4.000</td>\n",
       "      <td>5.000</td>\n",
       "      <td>13.000</td>\n",
       "      <td>9410.000</td>\n",
       "      <td>4820.000</td>\n",
       "      <td>2015.000</td>\n",
       "      <td>2015.000</td>\n",
       "      <td>98199.000</td>\n",
       "      <td>47.778</td>\n",
       "      <td>-121.315</td>\n",
       "      <td>6210.000</td>\n",
       "      <td>871200.000</td>\n",
       "    </tr>\n",
       "  </tbody>\n",
       "</table>\n",
       "</div>"
      ],
      "text/plain": [
       "                 id        price   bedrooms  bathrooms  sqft_living  \\\n",
       "count  2.153400e+04    21534.000  21534.000  21534.000    21534.000   \n",
       "mean   4.582351e+09   540057.664      3.373      2.116     2079.828   \n",
       "std    2.876779e+09   366059.581      0.926      0.769      917.447   \n",
       "min    1.000102e+06    78000.000      1.000      0.500      370.000   \n",
       "25%    2.123212e+09   322000.000      3.000      1.750     1430.000   \n",
       "50%    3.904945e+09   450000.000      3.000      2.250     1910.000   \n",
       "75%    7.312175e+09   645000.000      4.000      2.500     2550.000   \n",
       "max    9.900000e+09  7700000.000     33.000      8.000    13540.000   \n",
       "\n",
       "          sqft_lot     floors  waterfront       view  condition      grade  \\\n",
       "count    21534.000  21534.000   21534.000  21534.000  21534.000  21534.000   \n",
       "mean     15090.596      1.494       0.007      0.234      3.410      7.657   \n",
       "std      41380.210      0.540       0.082      0.766      0.651      1.173   \n",
       "min        520.000      1.000       0.000      0.000      1.000      3.000   \n",
       "25%       5040.000      1.000       0.000      0.000      3.000      7.000   \n",
       "50%       7617.000      1.500       0.000      0.000      3.000      7.000   \n",
       "75%      10687.750      2.000       0.000      0.000      4.000      8.000   \n",
       "max    1651359.000      3.500       1.000      4.000      5.000     13.000   \n",
       "\n",
       "       sqft_above  sqft_basement   yr_built  yr_renovated    zipcode  \\\n",
       "count   21534.000      21534.000  21534.000     21534.000  21534.000   \n",
       "mean     1788.558        285.244   1971.002        68.867  98077.939   \n",
       "std       827.746        439.334     29.376       364.315     53.507   \n",
       "min       370.000          0.000   1900.000         0.000  98001.000   \n",
       "25%      1190.000          0.000   1951.000         0.000  98033.000   \n",
       "50%      1560.000          0.000   1975.000         0.000  98065.000   \n",
       "75%      2210.000        550.000   1997.000         0.000  98118.000   \n",
       "max      9410.000       4820.000   2015.000      2015.000  98199.000   \n",
       "\n",
       "             lat       long  sqft_living15  sqft_lot15  \n",
       "count  21534.000  21534.000      21534.000   21534.000  \n",
       "mean      47.560   -122.214       1986.300   12751.080  \n",
       "std        0.139      0.141        685.121   27255.483  \n",
       "min       47.156   -122.519        399.000     651.000  \n",
       "25%       47.471   -122.328       1490.000    5100.000  \n",
       "50%       47.572   -122.230       1840.000    7620.000  \n",
       "75%       47.678   -122.125       2360.000   10083.000  \n",
       "max       47.778   -121.315       6210.000  871200.000  "
      ]
     },
     "execution_count": 47,
     "metadata": {},
     "output_type": "execute_result"
    }
   ],
   "source": [
    "#date doesn't show up\n",
    "housing_df.describe().round(3)"
   ]
  },
  {
   "cell_type": "markdown",
   "metadata": {},
   "source": [
    "Which independent variables are categories?"
   ]
  },
  {
   "cell_type": "code",
   "execution_count": 48,
   "metadata": {},
   "outputs": [
    {
     "data": {
      "text/plain": [
       "3     9791\n",
       "4     6865\n",
       "2     2754\n",
       "5     1596\n",
       "6      270\n",
       "1      196\n",
       "7       38\n",
       "8       13\n",
       "9        6\n",
       "10       3\n",
       "11       1\n",
       "33       1\n",
       "Name: bedrooms, dtype: int64"
      ]
     },
     "execution_count": 48,
     "metadata": {},
     "output_type": "execute_result"
    }
   ],
   "source": [
    "housing_df['bedrooms'].value_counts()"
   ]
  },
  {
   "cell_type": "code",
   "execution_count": 49,
   "metadata": {},
   "outputs": [
    {
     "data": {
      "text/plain": [
       "2.50    5364\n",
       "1.00    3841\n",
       "1.75    3035\n",
       "2.25    2037\n",
       "2.00    1926\n",
       "1.50    1441\n",
       "2.75    1185\n",
       "3.00     752\n",
       "3.50     730\n",
       "3.25     585\n",
       "3.75     155\n",
       "4.00     136\n",
       "4.50     100\n",
       "4.25      77\n",
       "0.75      71\n",
       "4.75      23\n",
       "5.00      21\n",
       "5.25      13\n",
       "5.50      10\n",
       "1.25       9\n",
       "6.00       5\n",
       "5.75       4\n",
       "0.50       4\n",
       "8.00       2\n",
       "6.25       2\n",
       "6.75       2\n",
       "6.50       2\n",
       "7.50       1\n",
       "7.75       1\n",
       "Name: bathrooms, dtype: int64"
      ]
     },
     "execution_count": 49,
     "metadata": {},
     "output_type": "execute_result"
    }
   ],
   "source": [
    "housing_df['bathrooms'].value_counts()"
   ]
  },
  {
   "cell_type": "code",
   "execution_count": 50,
   "metadata": {},
   "outputs": [
    {
     "data": {
      "text/plain": [
       "1.0    10643\n",
       "2.0     8211\n",
       "1.5     1903\n",
       "3.0      611\n",
       "2.5      159\n",
       "3.5        7\n",
       "Name: floors, dtype: int64"
      ]
     },
     "execution_count": 50,
     "metadata": {},
     "output_type": "execute_result"
    }
   ],
   "source": [
    "housing_df['floors'].value_counts()"
   ]
  },
  {
   "cell_type": "code",
   "execution_count": 51,
   "metadata": {},
   "outputs": [
    {
     "data": {
      "text/plain": [
       "0.0    21389\n",
       "1.0      145\n",
       "Name: waterfront, dtype: int64"
      ]
     },
     "execution_count": 51,
     "metadata": {},
     "output_type": "execute_result"
    }
   ],
   "source": [
    "housing_df['waterfront'].value_counts()"
   ]
  },
  {
   "cell_type": "code",
   "execution_count": 52,
   "metadata": {},
   "outputs": [
    {
     "data": {
      "text/plain": [
       "0.0    19422\n",
       "2.0      957\n",
       "3.0      508\n",
       "1.0      330\n",
       "4.0      317\n",
       "Name: view, dtype: int64"
      ]
     },
     "execution_count": 52,
     "metadata": {},
     "output_type": "execute_result"
    }
   ],
   "source": [
    "#view-has been viewed\n",
    "housing_df['view'].value_counts()"
   ]
  },
  {
   "cell_type": "code",
   "execution_count": 53,
   "metadata": {},
   "outputs": [
    {
     "data": {
      "text/plain": [
       "3    13981\n",
       "4     5657\n",
       "5     1697\n",
       "2      170\n",
       "1       29\n",
       "Name: condition, dtype: int64"
      ]
     },
     "execution_count": 53,
     "metadata": {},
     "output_type": "execute_result"
    }
   ],
   "source": [
    "#condition - How good the condition is (Overall)\n",
    "housing_df['condition'].value_counts()"
   ]
  },
  {
   "cell_type": "code",
   "execution_count": 54,
   "metadata": {},
   "outputs": [
    {
     "data": {
      "text/plain": [
       "0.0       20791\n",
       "2014.0       73\n",
       "2003.0       31\n",
       "2013.0       31\n",
       "2007.0       30\n",
       "          ...  \n",
       "1946.0        1\n",
       "1959.0        1\n",
       "1971.0        1\n",
       "1951.0        1\n",
       "1954.0        1\n",
       "Name: yr_renovated, Length: 70, dtype: int64"
      ]
     },
     "execution_count": 54,
     "metadata": {},
     "output_type": "execute_result"
    }
   ],
   "source": [
    "#yr_renovated - Year when house was renovated\n",
    "housing_df['yr_renovated'].value_counts()"
   ]
  },
  {
   "cell_type": "code",
   "execution_count": 55,
   "metadata": {},
   "outputs": [
    {
     "data": {
      "text/plain": [
       "Index(['id', 'date', 'price', 'bedrooms', 'bathrooms', 'sqft_living',\n",
       "       'sqft_lot', 'floors', 'waterfront', 'view', 'condition', 'grade',\n",
       "       'sqft_above', 'sqft_basement', 'yr_built', 'yr_renovated', 'zipcode',\n",
       "       'lat', 'long', 'sqft_living15', 'sqft_lot15'],\n",
       "      dtype='object')"
      ]
     },
     "execution_count": 55,
     "metadata": {},
     "output_type": "execute_result"
    }
   ],
   "source": [
    "housing_df.columns"
   ]
  },
  {
   "cell_type": "code",
   "execution_count": 63,
   "metadata": {},
   "outputs": [
    {
     "data": {
      "image/png": "[encoded data removed]",
      "text/plain": [
       "<Figure size 1008x216 with 3 Axes>"
      ]
     },
     "metadata": {
      "needs_background": "light"
     },
     "output_type": "display_data"
    }
   ],
   "source": [
    "#cat_columns = ['bedrooms', 'floors', 'waterfront', \n",
    "#               'view', 'condition', 'grade']\n",
    "fig, axes = plt.subplots(nrows=1, ncols=3, figsize=(14,3))\n",
    "\n",
    "for xcol, ax in zip(['bedrooms','floors', 'waterfront'], axes):\n",
    "    housing_df.plot(kind='scatter', x=xcol, y='price', ax=ax, alpha=0.4, color='b')\n"
   ]
  },
  {
   "cell_type": "code",
   "execution_count": 64,
   "metadata": {},
   "outputs": [
    {
     "data": {
      "image/png": "[encoded data removed]",
      "text/plain": [
       "<Figure size 1008x216 with 3 Axes>"
      ]
     },
     "metadata": {
      "needs_background": "light"
     },
     "output_type": "display_data"
    }
   ],
   "source": [
    "fig, axes = plt.subplots(nrows=1, ncols=3, figsize=(14,3))\n",
    "\n",
    "for xcol, ax in zip(['view', 'condition', 'grade'], axes):\n",
    "    housing_df.plot(kind='scatter', x=xcol, y='price', ax=ax, alpha=0.4, color='b')"
   ]
  },
  {
   "cell_type": "code",
   "execution_count": null,
   "metadata": {},
   "outputs": [],
   "source": []
  }
 ],
 "metadata": {
  "kernelspec": {
   "display_name": "Python [conda env:learn-env] *",
   "language": "python",
   "name": "conda-env-learn-env-py"
  },
  "language_info": {
   "codemirror_mode": {
    "name": "ipython",
    "version": 3
   },
   "file_extension": ".py",
   "mimetype": "text/x-python",
   "name": "python",
   "nbconvert_exporter": "python",
   "pygments_lexer": "ipython3",
   "version": "3.6.9"
  },
  "toc": {
   "base_numbering": 1,
   "nav_menu": {},
   "number_sections": true,
   "sideBar": true,
   "skip_h1_title": false,
   "title_cell": "Table of Contents",
   "title_sidebar": "Contents",
   "toc_cell": false,
   "toc_position": {},
   "toc_section_display": true,
   "toc_window_display": false
  },
  "varInspector": {
   "cols": {
    "lenName": 16,
    "lenType": 16,
    "lenVar": 40
   },
   "kernels_config": {
    "python": {
     "delete_cmd_postfix": "",
     "delete_cmd_prefix": "del ",
     "library": "var_list.py",
     "varRefreshCmd": "print(var_dic_list())"
    },
    "r": {
     "delete_cmd_postfix": ") ",
     "delete_cmd_prefix": "rm(",
     "library": "var_list.r",
     "varRefreshCmd": "cat(var_dic_list()) "
    }
   },
   "types_to_exclude": [
    "module",
    "function",
    "builtin_function_or_method",
    "instance",
    "_Feature"
   ],
   "window_display": false
  }
 },
 "nbformat": 4,
 "nbformat_minor": 2
}
